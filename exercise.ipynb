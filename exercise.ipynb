{
  "nbformat": 4,
  "nbformat_minor": 0,
  "metadata": {
    "colab": {
      "name": "exercise.ipynb",
      "provenance": [],
      "authorship_tag": "ABX9TyNate53au/mJ+LAQdUVzZXn",
      "include_colab_link": true
    },
    "kernelspec": {
      "name": "python3",
      "display_name": "Python 3"
    }
  },
  "cells": [
    {
      "cell_type": "markdown",
      "metadata": {
        "id": "view-in-github",
        "colab_type": "text"
      },
      "source": [
        "<a href=\"https://colab.research.google.com/github/khbae/econometrics/blob/master/exercise.ipynb\" target=\"_parent\"><img src=\"https://colab.research.google.com/assets/colab-badge.svg\" alt=\"Open In Colab\"/></a>"
      ]
    },
    {
      "cell_type": "code",
      "metadata": {
        "id": "wfF5kxzwl4EE"
      },
      "source": [
        "from vega_datasets import data\n",
        "import numpy as np"
      ],
      "execution_count": null,
      "outputs": []
    },
    {
      "cell_type": "code",
      "metadata": {
        "id": "zzT8jBp-mIN_",
        "outputId": "0e331260-84b7-4a5d-e967-5c536bf60c7a",
        "colab": {
          "base_uri": "https://localhost:8080/"
        }
      },
      "source": [
        "data.list_datasets()"
      ],
      "execution_count": null,
      "outputs": [
        {
          "output_type": "execute_result",
          "data": {
            "text/plain": [
              "['7zip',\n",
              " 'airports',\n",
              " 'annual-precip',\n",
              " 'anscombe',\n",
              " 'barley',\n",
              " 'birdstrikes',\n",
              " 'budget',\n",
              " 'budgets',\n",
              " 'burtin',\n",
              " 'cars',\n",
              " 'climate',\n",
              " 'co2-concentration',\n",
              " 'countries',\n",
              " 'crimea',\n",
              " 'disasters',\n",
              " 'driving',\n",
              " 'earthquakes',\n",
              " 'ffox',\n",
              " 'flare',\n",
              " 'flare-dependencies',\n",
              " 'flights-10k',\n",
              " 'flights-200k',\n",
              " 'flights-20k',\n",
              " 'flights-2k',\n",
              " 'flights-3m',\n",
              " 'flights-5k',\n",
              " 'flights-airport',\n",
              " 'gapminder',\n",
              " 'gapminder-health-income',\n",
              " 'gimp',\n",
              " 'github',\n",
              " 'graticule',\n",
              " 'income',\n",
              " 'iowa-electricity',\n",
              " 'iris',\n",
              " 'jobs',\n",
              " 'la-riots',\n",
              " 'londonBoroughs',\n",
              " 'londonCentroids',\n",
              " 'londonTubeLines',\n",
              " 'lookup_groups',\n",
              " 'lookup_people',\n",
              " 'miserables',\n",
              " 'monarchs',\n",
              " 'movies',\n",
              " 'normal-2d',\n",
              " 'obesity',\n",
              " 'ohlc',\n",
              " 'points',\n",
              " 'population',\n",
              " 'population_engineers_hurricanes',\n",
              " 'seattle-temps',\n",
              " 'seattle-weather',\n",
              " 'sf-temps',\n",
              " 'sp500',\n",
              " 'stocks',\n",
              " 'udistrict',\n",
              " 'unemployment',\n",
              " 'unemployment-across-industries',\n",
              " 'uniform-2d',\n",
              " 'us-10m',\n",
              " 'us-employment',\n",
              " 'us-state-capitals',\n",
              " 'volcano',\n",
              " 'weather',\n",
              " 'weball26',\n",
              " 'wheat',\n",
              " 'windvectors',\n",
              " 'world-110m',\n",
              " 'zipcodes']"
            ]
          },
          "metadata": {
            "tags": []
          },
          "execution_count": 32
        }
      ]
    },
    {
      "cell_type": "code",
      "metadata": {
        "id": "kARafHLymSMi",
        "outputId": "8a9a96b2-9deb-4d90-e4a7-a6a293181dda",
        "colab": {
          "base_uri": "https://localhost:8080/"
        }
      },
      "source": [
        "data.income"
      ],
      "execution_count": null,
      "outputs": [
        {
          "output_type": "execute_result",
          "data": {
            "text/plain": [
              "<vega_datasets.core.Dataset at 0x7fe5495824a8>"
            ]
          },
          "metadata": {
            "tags": []
          },
          "execution_count": 33
        }
      ]
    },
    {
      "cell_type": "code",
      "metadata": {
        "id": "F5u4AL7gmWzx",
        "outputId": "922e5a48-d9fc-4ba8-9381-e430d086df6a",
        "colab": {
          "base_uri": "https://localhost:8080/",
          "height": 407
        }
      },
      "source": [
        "data.jobs(use_local=True)"
      ],
      "execution_count": null,
      "outputs": [
        {
          "output_type": "execute_result",
          "data": {
            "text/html": [
              "<div>\n",
              "<style scoped>\n",
              "    .dataframe tbody tr th:only-of-type {\n",
              "        vertical-align: middle;\n",
              "    }\n",
              "\n",
              "    .dataframe tbody tr th {\n",
              "        vertical-align: top;\n",
              "    }\n",
              "\n",
              "    .dataframe thead th {\n",
              "        text-align: right;\n",
              "    }\n",
              "</style>\n",
              "<table border=\"1\" class=\"dataframe\">\n",
              "  <thead>\n",
              "    <tr style=\"text-align: right;\">\n",
              "      <th></th>\n",
              "      <th>job</th>\n",
              "      <th>sex</th>\n",
              "      <th>year</th>\n",
              "      <th>count</th>\n",
              "      <th>perc</th>\n",
              "    </tr>\n",
              "  </thead>\n",
              "  <tbody>\n",
              "    <tr>\n",
              "      <th>0</th>\n",
              "      <td>Accountant / Auditor</td>\n",
              "      <td>men</td>\n",
              "      <td>1850</td>\n",
              "      <td>708</td>\n",
              "      <td>0.000131</td>\n",
              "    </tr>\n",
              "    <tr>\n",
              "      <th>1</th>\n",
              "      <td>Accountant / Auditor</td>\n",
              "      <td>men</td>\n",
              "      <td>1860</td>\n",
              "      <td>1805</td>\n",
              "      <td>0.000214</td>\n",
              "    </tr>\n",
              "    <tr>\n",
              "      <th>2</th>\n",
              "      <td>Accountant / Auditor</td>\n",
              "      <td>men</td>\n",
              "      <td>1870</td>\n",
              "      <td>1310</td>\n",
              "      <td>0.000100</td>\n",
              "    </tr>\n",
              "    <tr>\n",
              "      <th>3</th>\n",
              "      <td>Accountant / Auditor</td>\n",
              "      <td>men</td>\n",
              "      <td>1880</td>\n",
              "      <td>2295</td>\n",
              "      <td>0.000125</td>\n",
              "    </tr>\n",
              "    <tr>\n",
              "      <th>4</th>\n",
              "      <td>Accountant / Auditor</td>\n",
              "      <td>men</td>\n",
              "      <td>1900</td>\n",
              "      <td>11753</td>\n",
              "      <td>0.000396</td>\n",
              "    </tr>\n",
              "    <tr>\n",
              "      <th>...</th>\n",
              "      <td>...</td>\n",
              "      <td>...</td>\n",
              "      <td>...</td>\n",
              "      <td>...</td>\n",
              "      <td>...</td>\n",
              "    </tr>\n",
              "    <tr>\n",
              "      <th>7645</th>\n",
              "      <td>Welder</td>\n",
              "      <td>women</td>\n",
              "      <td>1960</td>\n",
              "      <td>28594</td>\n",
              "      <td>0.000329</td>\n",
              "    </tr>\n",
              "    <tr>\n",
              "      <th>7646</th>\n",
              "      <td>Welder</td>\n",
              "      <td>women</td>\n",
              "      <td>1970</td>\n",
              "      <td>48083</td>\n",
              "      <td>0.000440</td>\n",
              "    </tr>\n",
              "    <tr>\n",
              "      <th>7647</th>\n",
              "      <td>Welder</td>\n",
              "      <td>women</td>\n",
              "      <td>1980</td>\n",
              "      <td>57920</td>\n",
              "      <td>0.000451</td>\n",
              "    </tr>\n",
              "    <tr>\n",
              "      <th>7648</th>\n",
              "      <td>Welder</td>\n",
              "      <td>women</td>\n",
              "      <td>1990</td>\n",
              "      <td>36224</td>\n",
              "      <td>0.000243</td>\n",
              "    </tr>\n",
              "    <tr>\n",
              "      <th>7649</th>\n",
              "      <td>Welder</td>\n",
              "      <td>women</td>\n",
              "      <td>2000</td>\n",
              "      <td>63197</td>\n",
              "      <td>0.000376</td>\n",
              "    </tr>\n",
              "  </tbody>\n",
              "</table>\n",
              "<p>7650 rows × 5 columns</p>\n",
              "</div>"
            ],
            "text/plain": [
              "                       job    sex  year  count      perc\n",
              "0     Accountant / Auditor    men  1850    708  0.000131\n",
              "1     Accountant / Auditor    men  1860   1805  0.000214\n",
              "2     Accountant / Auditor    men  1870   1310  0.000100\n",
              "3     Accountant / Auditor    men  1880   2295  0.000125\n",
              "4     Accountant / Auditor    men  1900  11753  0.000396\n",
              "...                    ...    ...   ...    ...       ...\n",
              "7645                Welder  women  1960  28594  0.000329\n",
              "7646                Welder  women  1970  48083  0.000440\n",
              "7647                Welder  women  1980  57920  0.000451\n",
              "7648                Welder  women  1990  36224  0.000243\n",
              "7649                Welder  women  2000  63197  0.000376\n",
              "\n",
              "[7650 rows x 5 columns]"
            ]
          },
          "metadata": {
            "tags": []
          },
          "execution_count": 34
        }
      ]
    },
    {
      "cell_type": "code",
      "metadata": {
        "id": "JTWW5fNcmZpT"
      },
      "source": [
        "df = data.cars(use_local=True)"
      ],
      "execution_count": null,
      "outputs": []
    },
    {
      "cell_type": "code",
      "metadata": {
        "id": "FYALW0kkm21w",
        "outputId": "dac7516c-d4e7-4ee5-eb98-c77b8ae8a52d",
        "colab": {
          "base_uri": "https://localhost:8080/"
        }
      },
      "source": [
        "df.values"
      ],
      "execution_count": null,
      "outputs": [
        {
          "output_type": "execute_result",
          "data": {
            "text/plain": [
              "array([['chevrolet chevelle malibu', 18.0, 8, ..., 12.0,\n",
              "        Timestamp('1970-01-01 00:00:00'), 'USA'],\n",
              "       ['buick skylark 320', 15.0, 8, ..., 11.5,\n",
              "        Timestamp('1970-01-01 00:00:00'), 'USA'],\n",
              "       ['plymouth satellite', 18.0, 8, ..., 11.0,\n",
              "        Timestamp('1970-01-01 00:00:00'), 'USA'],\n",
              "       ...,\n",
              "       ['dodge rampage', 32.0, 4, ..., 11.6,\n",
              "        Timestamp('1982-01-01 00:00:00'), 'USA'],\n",
              "       ['ford ranger', 28.0, 4, ..., 18.6,\n",
              "        Timestamp('1982-01-01 00:00:00'), 'USA'],\n",
              "       ['chevy s-10', 31.0, 4, ..., 19.4,\n",
              "        Timestamp('1982-01-01 00:00:00'), 'USA']], dtype=object)"
            ]
          },
          "metadata": {
            "tags": []
          },
          "execution_count": 36
        }
      ]
    },
    {
      "cell_type": "code",
      "metadata": {
        "id": "nIRxQyM9m5_h",
        "outputId": "d6e33168-215e-4f51-d062-3946eceb66cb",
        "colab": {
          "base_uri": "https://localhost:8080/"
        }
      },
      "source": [
        "df.columns"
      ],
      "execution_count": null,
      "outputs": [
        {
          "output_type": "execute_result",
          "data": {
            "text/plain": [
              "Index(['Name', 'Miles_per_Gallon', 'Cylinders', 'Displacement', 'Horsepower',\n",
              "       'Weight_in_lbs', 'Acceleration', 'Year', 'Origin'],\n",
              "      dtype='object')"
            ]
          },
          "metadata": {
            "tags": []
          },
          "execution_count": 37
        }
      ]
    },
    {
      "cell_type": "code",
      "metadata": {
        "id": "yRkKvA9knfQ_"
      },
      "source": [
        "df['one'] = 1"
      ],
      "execution_count": null,
      "outputs": []
    },
    {
      "cell_type": "code",
      "metadata": {
        "id": "JB90pNxTntH1",
        "outputId": "f4678ace-9aaa-4761-bdf2-606c77c79b6c",
        "colab": {
          "base_uri": "https://localhost:8080/"
        }
      },
      "source": [
        "df.columns"
      ],
      "execution_count": null,
      "outputs": [
        {
          "output_type": "execute_result",
          "data": {
            "text/plain": [
              "Index(['Name', 'Miles_per_Gallon', 'Cylinders', 'Displacement', 'Horsepower',\n",
              "       'Weight_in_lbs', 'Acceleration', 'Year', 'Origin', 'one'],\n",
              "      dtype='object')"
            ]
          },
          "metadata": {
            "tags": []
          },
          "execution_count": 39
        }
      ]
    },
    {
      "cell_type": "code",
      "metadata": {
        "id": "cVuEwFnDnlnj"
      },
      "source": [
        "X = df.loc[:,['one','Cylinders']].values"
      ],
      "execution_count": null,
      "outputs": []
    },
    {
      "cell_type": "code",
      "metadata": {
        "id": "uYYZ-cd6n4D9"
      },
      "source": [
        "Y = df.loc[:,['Acceleration']].values"
      ],
      "execution_count": null,
      "outputs": []
    },
    {
      "cell_type": "code",
      "metadata": {
        "id": "rmMgCDcG8-uc",
        "outputId": "411601e4-ae6e-4634-99df-8a1a9d2a6b33",
        "colab": {
          "base_uri": "https://localhost:8080/"
        }
      },
      "source": [
        "Y"
      ],
      "execution_count": null,
      "outputs": [
        {
          "output_type": "execute_result",
          "data": {
            "text/plain": [
              "array([[12. ],\n",
              "       [11.5],\n",
              "       [11. ],\n",
              "       [12. ],\n",
              "       [10.5],\n",
              "       [10. ],\n",
              "       [ 9. ],\n",
              "       [ 8.5],\n",
              "       [10. ],\n",
              "       [ 8.5],\n",
              "       [17.5],\n",
              "       [11.5],\n",
              "       [11. ],\n",
              "       [10.5],\n",
              "       [11. ],\n",
              "       [10. ],\n",
              "       [ 8. ],\n",
              "       [ 8. ],\n",
              "       [ 9.5],\n",
              "       [10. ],\n",
              "       [15. ],\n",
              "       [15.5],\n",
              "       [15.5],\n",
              "       [16. ],\n",
              "       [14.5],\n",
              "       [20.5],\n",
              "       [17.5],\n",
              "       [14.5],\n",
              "       [17.5],\n",
              "       [12.5],\n",
              "       [15. ],\n",
              "       [14. ],\n",
              "       [15. ],\n",
              "       [13.5],\n",
              "       [18.5],\n",
              "       [14.5],\n",
              "       [15.5],\n",
              "       [14. ],\n",
              "       [19. ],\n",
              "       [20. ],\n",
              "       [13. ],\n",
              "       [15.5],\n",
              "       [15.5],\n",
              "       [15.5],\n",
              "       [15.5],\n",
              "       [12. ],\n",
              "       [11.5],\n",
              "       [13.5],\n",
              "       [13. ],\n",
              "       [11.5],\n",
              "       [12. ],\n",
              "       [12. ],\n",
              "       [13.5],\n",
              "       [19. ],\n",
              "       [15. ],\n",
              "       [14.5],\n",
              "       [14. ],\n",
              "       [14. ],\n",
              "       [19.5],\n",
              "       [14.5],\n",
              "       [19. ],\n",
              "       [18. ],\n",
              "       [19. ],\n",
              "       [20.5],\n",
              "       [15.5],\n",
              "       [17. ],\n",
              "       [23.5],\n",
              "       [19.5],\n",
              "       [16.5],\n",
              "       [12. ],\n",
              "       [12. ],\n",
              "       [13.5],\n",
              "       [13. ],\n",
              "       [11.5],\n",
              "       [11. ],\n",
              "       [13.5],\n",
              "       [13.5],\n",
              "       [12.5],\n",
              "       [13.5],\n",
              "       [12.5],\n",
              "       [14. ],\n",
              "       [16. ],\n",
              "       [14. ],\n",
              "       [14.5],\n",
              "       [18. ],\n",
              "       [19.5],\n",
              "       [18. ],\n",
              "       [16. ],\n",
              "       [17. ],\n",
              "       [14.5],\n",
              "       [15. ],\n",
              "       [16.5],\n",
              "       [13. ],\n",
              "       [11.5],\n",
              "       [13. ],\n",
              "       [14.5],\n",
              "       [12.5],\n",
              "       [11.5],\n",
              "       [12. ],\n",
              "       [13. ],\n",
              "       [14.5],\n",
              "       [11. ],\n",
              "       [11. ],\n",
              "       [11. ],\n",
              "       [16.5],\n",
              "       [18. ],\n",
              "       [16. ],\n",
              "       [16.5],\n",
              "       [16. ],\n",
              "       [21. ],\n",
              "       [14. ],\n",
              "       [12.5],\n",
              "       [13. ],\n",
              "       [12.5],\n",
              "       [15. ],\n",
              "       [19. ],\n",
              "       [19.5],\n",
              "       [16.5],\n",
              "       [13.5],\n",
              "       [18.5],\n",
              "       [14. ],\n",
              "       [15.5],\n",
              "       [13. ],\n",
              "       [ 9.5],\n",
              "       [19.5],\n",
              "       [15.5],\n",
              "       [14. ],\n",
              "       [15.5],\n",
              "       [11. ],\n",
              "       [14. ],\n",
              "       [13.5],\n",
              "       [11. ],\n",
              "       [16.5],\n",
              "       [17. ],\n",
              "       [16. ],\n",
              "       [17. ],\n",
              "       [19. ],\n",
              "       [16.5],\n",
              "       [21. ],\n",
              "       [17. ],\n",
              "       [17. ],\n",
              "       [18. ],\n",
              "       [16.5],\n",
              "       [14. ],\n",
              "       [14.5],\n",
              "       [13.5],\n",
              "       [16. ],\n",
              "       [15.5],\n",
              "       [16.5],\n",
              "       [15.5],\n",
              "       [14.5],\n",
              "       [16.5],\n",
              "       [19. ],\n",
              "       [14.5],\n",
              "       [15.5],\n",
              "       [14. ],\n",
              "       [15. ],\n",
              "       [15.5],\n",
              "       [16. ],\n",
              "       [16. ],\n",
              "       [16. ],\n",
              "       [21. ],\n",
              "       [19.5],\n",
              "       [11.5],\n",
              "       [14. ],\n",
              "       [14.5],\n",
              "       [13.5],\n",
              "       [21. ],\n",
              "       [18.5],\n",
              "       [19. ],\n",
              "       [19. ],\n",
              "       [15. ],\n",
              "       [13.5],\n",
              "       [12. ],\n",
              "       [16. ],\n",
              "       [17. ],\n",
              "       [16. ],\n",
              "       [18.5],\n",
              "       [13.5],\n",
              "       [16.5],\n",
              "       [17. ],\n",
              "       [14.5],\n",
              "       [14. ],\n",
              "       [17. ],\n",
              "       [15. ],\n",
              "       [17. ],\n",
              "       [14.5],\n",
              "       [13.5],\n",
              "       [17.5],\n",
              "       [15.5],\n",
              "       [16.9],\n",
              "       [14.9],\n",
              "       [17.7],\n",
              "       [15.3],\n",
              "       [13. ],\n",
              "       [13. ],\n",
              "       [13.9],\n",
              "       [12.8],\n",
              "       [15.4],\n",
              "       [14.5],\n",
              "       [17.6],\n",
              "       [17.6],\n",
              "       [22.2],\n",
              "       [22.1],\n",
              "       [14.2],\n",
              "       [17.4],\n",
              "       [17.7],\n",
              "       [21. ],\n",
              "       [16.2],\n",
              "       [17.8],\n",
              "       [12.2],\n",
              "       [17. ],\n",
              "       [16.4],\n",
              "       [13.6],\n",
              "       [15.7],\n",
              "       [13.2],\n",
              "       [21.9],\n",
              "       [15.5],\n",
              "       [16.7],\n",
              "       [12.1],\n",
              "       [12. ],\n",
              "       [15. ],\n",
              "       [14. ],\n",
              "       [18.5],\n",
              "       [14.8],\n",
              "       [18.6],\n",
              "       [15.5],\n",
              "       [16.8],\n",
              "       [12.5],\n",
              "       [19. ],\n",
              "       [13.7],\n",
              "       [14.9],\n",
              "       [16.4],\n",
              "       [16.9],\n",
              "       [17.7],\n",
              "       [19. ],\n",
              "       [11.1],\n",
              "       [11.4],\n",
              "       [12.2],\n",
              "       [14.5],\n",
              "       [14.5],\n",
              "       [16. ],\n",
              "       [18.2],\n",
              "       [15.8],\n",
              "       [17. ],\n",
              "       [15.9],\n",
              "       [16.4],\n",
              "       [14.1],\n",
              "       [14.5],\n",
              "       [12.8],\n",
              "       [13.5],\n",
              "       [21.5],\n",
              "       [14.4],\n",
              "       [19.4],\n",
              "       [18.6],\n",
              "       [16.4],\n",
              "       [15.5],\n",
              "       [13.2],\n",
              "       [12.8],\n",
              "       [19.2],\n",
              "       [18.2],\n",
              "       [15.8],\n",
              "       [15.4],\n",
              "       [17.2],\n",
              "       [17.2],\n",
              "       [15.8],\n",
              "       [16.7],\n",
              "       [18.7],\n",
              "       [15.1],\n",
              "       [13.2],\n",
              "       [13.4],\n",
              "       [11.2],\n",
              "       [13.7],\n",
              "       [16.5],\n",
              "       [14.2],\n",
              "       [14.7],\n",
              "       [14.5],\n",
              "       [14.8],\n",
              "       [16.7],\n",
              "       [17.6],\n",
              "       [14.9],\n",
              "       [15.9],\n",
              "       [13.6],\n",
              "       [15.7],\n",
              "       [15.8],\n",
              "       [14.9],\n",
              "       [16.6],\n",
              "       [15.4],\n",
              "       [18.2],\n",
              "       [17.3],\n",
              "       [18.2],\n",
              "       [16.6],\n",
              "       [15.4],\n",
              "       [13.4],\n",
              "       [13.2],\n",
              "       [15.2],\n",
              "       [14.9],\n",
              "       [14.3],\n",
              "       [15. ],\n",
              "       [13. ],\n",
              "       [14. ],\n",
              "       [15.2],\n",
              "       [14.4],\n",
              "       [15. ],\n",
              "       [20.1],\n",
              "       [17.4],\n",
              "       [24.8],\n",
              "       [22.2],\n",
              "       [13.2],\n",
              "       [14.9],\n",
              "       [19.2],\n",
              "       [14.7],\n",
              "       [16. ],\n",
              "       [11.3],\n",
              "       [12.9],\n",
              "       [13.2],\n",
              "       [14.7],\n",
              "       [18.8],\n",
              "       [15.5],\n",
              "       [16.4],\n",
              "       [16.5],\n",
              "       [18.1],\n",
              "       [20.1],\n",
              "       [18.7],\n",
              "       [15.8],\n",
              "       [15.5],\n",
              "       [17.5],\n",
              "       [15. ],\n",
              "       [15.2],\n",
              "       [17.9],\n",
              "       [14.4],\n",
              "       [19.2],\n",
              "       [21.7],\n",
              "       [23.7],\n",
              "       [19.9],\n",
              "       [21.8],\n",
              "       [13.8],\n",
              "       [17.3],\n",
              "       [18. ],\n",
              "       [15.3],\n",
              "       [11.4],\n",
              "       [12.5],\n",
              "       [15.1],\n",
              "       [14.3],\n",
              "       [17. ],\n",
              "       [15.7],\n",
              "       [16.4],\n",
              "       [14.4],\n",
              "       [12.6],\n",
              "       [12.9],\n",
              "       [16.9],\n",
              "       [16.4],\n",
              "       [16.1],\n",
              "       [17.8],\n",
              "       [19.4],\n",
              "       [17.3],\n",
              "       [16. ],\n",
              "       [14.9],\n",
              "       [16.2],\n",
              "       [20.7],\n",
              "       [14.2],\n",
              "       [15.8],\n",
              "       [14.4],\n",
              "       [16.8],\n",
              "       [14.8],\n",
              "       [18.3],\n",
              "       [20.4],\n",
              "       [15.4],\n",
              "       [19.6],\n",
              "       [12.6],\n",
              "       [13.8],\n",
              "       [15.8],\n",
              "       [19. ],\n",
              "       [17.1],\n",
              "       [16.6],\n",
              "       [19.6],\n",
              "       [18.6],\n",
              "       [18. ],\n",
              "       [16.2],\n",
              "       [16. ],\n",
              "       [18. ],\n",
              "       [16.4],\n",
              "       [20.5],\n",
              "       [15.3],\n",
              "       [18.2],\n",
              "       [17.6],\n",
              "       [14.7],\n",
              "       [17.3],\n",
              "       [14.5],\n",
              "       [14.5],\n",
              "       [16.9],\n",
              "       [15. ],\n",
              "       [15.7],\n",
              "       [16.2],\n",
              "       [16.4],\n",
              "       [17. ],\n",
              "       [14.5],\n",
              "       [14.7],\n",
              "       [13.9],\n",
              "       [13. ],\n",
              "       [17.3],\n",
              "       [15.6],\n",
              "       [24.6],\n",
              "       [11.6],\n",
              "       [18.6],\n",
              "       [19.4]])"
            ]
          },
          "metadata": {
            "tags": []
          },
          "execution_count": 70
        }
      ]
    },
    {
      "cell_type": "code",
      "metadata": {
        "id": "-UuXV9Hwvdh4",
        "outputId": "e04ae76e-7443-4f48-e285-f8eab472b365",
        "colab": {
          "base_uri": "https://localhost:8080/"
        }
      },
      "source": [
        "X.T.dot(Y)"
      ],
      "execution_count": null,
      "outputs": [
        {
          "output_type": "execute_result",
          "data": {
            "text/plain": [
              "array([[ 6301. ],\n",
              "       [33484.7]])"
            ]
          },
          "metadata": {
            "tags": []
          },
          "execution_count": 71
        }
      ]
    },
    {
      "cell_type": "code",
      "metadata": {
        "id": "2MdlLqZfvAbC",
        "outputId": "b5f182c3-7a5c-4f6c-903b-6b54be761db1",
        "colab": {
          "base_uri": "https://localhost:8080/"
        }
      },
      "source": [
        "np.linalg.inv(X.T.dot(X)).dot(X.T.dot(Y))"
      ],
      "execution_count": null,
      "outputs": [
        {
          "output_type": "execute_result",
          "data": {
            "text/plain": [
              "array([[20.20345604],\n",
              "       [-0.85542202]])"
            ]
          },
          "metadata": {
            "tags": []
          },
          "execution_count": 73
        }
      ]
    },
    {
      "cell_type": "code",
      "metadata": {
        "id": "w5xrpicp9SOI",
        "outputId": "d18b0110-bdee-4263-a835-8132bb279ad2",
        "colab": {
          "base_uri": "https://localhost:8080/"
        }
      },
      "source": [
        "import statsmodels.formula.api as sm"
      ],
      "execution_count": null,
      "outputs": [
        {
          "output_type": "stream",
          "text": [
            "/usr/local/lib/python3.6/dist-packages/statsmodels/tools/_testing.py:19: FutureWarning: pandas.util.testing is deprecated. Use the functions in the public API at pandas.testing instead.\n",
            "  import pandas.util.testing as tm\n"
          ],
          "name": "stderr"
        }
      ]
    },
    {
      "cell_type": "code",
      "metadata": {
        "id": "dHnCjSK2_BPs",
        "outputId": "155c38bd-3aca-4cfb-b33b-7a02f3f34983",
        "colab": {
          "base_uri": "https://localhost:8080/"
        }
      },
      "source": [
        "df.columns"
      ],
      "execution_count": null,
      "outputs": [
        {
          "output_type": "execute_result",
          "data": {
            "text/plain": [
              "Index(['Name', 'Miles_per_Gallon', 'Cylinders', 'Displacement', 'Horsepower',\n",
              "       'Weight_in_lbs', 'Acceleration', 'Year', 'Origin', 'one'],\n",
              "      dtype='object')"
            ]
          },
          "metadata": {
            "tags": []
          },
          "execution_count": 75
        }
      ]
    },
    {
      "cell_type": "code",
      "metadata": {
        "id": "zzYa20EZ-6_o",
        "outputId": "f4cf2ab2-151c-455d-d082-f04b03c505ed",
        "colab": {
          "base_uri": "https://localhost:8080/"
        }
      },
      "source": [
        "results = sm.ols(formula = 'Acceleration ~ Cylinders',data=df).fit()\n",
        "print(results.summary())"
      ],
      "execution_count": null,
      "outputs": [
        {
          "output_type": "stream",
          "text": [
            "                            OLS Regression Results                            \n",
            "==============================================================================\n",
            "Dep. Variable:           Acceleration   R-squared:                       0.273\n",
            "Model:                            OLS   Adj. R-squared:                  0.271\n",
            "Method:                 Least Squares   F-statistic:                     151.7\n",
            "Date:                Fri, 06 Nov 2020   Prob (F-statistic):           8.18e-30\n",
            "Time:                        23:55:35   Log-Likelihood:                -929.39\n",
            "No. Observations:                 406   AIC:                             1863.\n",
            "Df Residuals:                     404   BIC:                             1871.\n",
            "Df Model:                           1                                         \n",
            "Covariance Type:            nonrobust                                         \n",
            "==============================================================================\n",
            "                 coef    std err          t      P>|t|      [0.025      0.975]\n",
            "------------------------------------------------------------------------------\n",
            "Intercept     20.2035      0.398     50.708      0.000      19.420      20.987\n",
            "Cylinders     -0.8554      0.069    -12.316      0.000      -0.992      -0.719\n",
            "==============================================================================\n",
            "Omnibus:                       24.490   Durbin-Watson:                   1.427\n",
            "Prob(Omnibus):                  0.000   Jarque-Bera (JB):               27.743\n",
            "Skew:                           0.574   Prob(JB):                     9.46e-07\n",
            "Kurtosis:                       3.567   Cond. No.                         19.8\n",
            "==============================================================================\n",
            "\n",
            "Warnings:\n",
            "[1] Standard Errors assume that the covariance matrix of the errors is correctly specified.\n"
          ],
          "name": "stdout"
        }
      ]
    },
    {
      "cell_type": "code",
      "metadata": {
        "id": "KMdWzm74_On1"
      },
      "source": [
        "beta = np.linalg.inv(X.T.dot(X)).dot(X.T.dot(Y))"
      ],
      "execution_count": null,
      "outputs": []
    },
    {
      "cell_type": "code",
      "metadata": {
        "id": "i5Y58oV5_RCw",
        "outputId": "131c39f8-acb6-4ca3-8729-b173d60c9326",
        "colab": {
          "base_uri": "https://localhost:8080/"
        }
      },
      "source": [
        "beta"
      ],
      "execution_count": null,
      "outputs": [
        {
          "output_type": "execute_result",
          "data": {
            "text/plain": [
              "array([[20.20345604],\n",
              "       [-0.85542202]])"
            ]
          },
          "metadata": {
            "tags": []
          },
          "execution_count": 79
        }
      ]
    },
    {
      "cell_type": "code",
      "metadata": {
        "id": "xeY-a8bR_6-X",
        "outputId": "9760debc-b751-41bf-b615-d8db00613164",
        "colab": {
          "base_uri": "https://localhost:8080/"
        }
      },
      "source": [
        "df.shape[0]"
      ],
      "execution_count": null,
      "outputs": [
        {
          "output_type": "execute_result",
          "data": {
            "text/plain": [
              "406"
            ]
          },
          "metadata": {
            "tags": []
          },
          "execution_count": 91
        }
      ]
    },
    {
      "cell_type": "code",
      "metadata": {
        "id": "H9Jxml1r_fhZ"
      },
      "source": [
        "sigma2 = sum((Y - X.dot(beta))**2)/(df.shape[0]-2)"
      ],
      "execution_count": null,
      "outputs": []
    },
    {
      "cell_type": "code",
      "metadata": {
        "id": "tG_jcKAiAGoz"
      },
      "source": [
        "var_cov = np.linalg.inv(X.T.dot(X))*sigma2"
      ],
      "execution_count": null,
      "outputs": []
    },
    {
      "cell_type": "code",
      "metadata": {
        "id": "w2iDr0z2ASds",
        "outputId": "62234264-5c01-4de6-e985-00e703d3897a",
        "colab": {
          "base_uri": "https://localhost:8080/"
        }
      },
      "source": [
        "np.diag(var_cov)"
      ],
      "execution_count": null,
      "outputs": [
        {
          "output_type": "execute_result",
          "data": {
            "text/plain": [
              "array([0.15874365, 0.00482446])"
            ]
          },
          "metadata": {
            "tags": []
          },
          "execution_count": 100
        }
      ]
    },
    {
      "cell_type": "code",
      "metadata": {
        "id": "fOhmllYQ_dGO",
        "outputId": "6ffbf6a2-63b9-4dfd-a367-93de9d2d418a",
        "colab": {
          "base_uri": "https://localhost:8080/"
        }
      },
      "source": [
        "beta.shape"
      ],
      "execution_count": null,
      "outputs": [
        {
          "output_type": "execute_result",
          "data": {
            "text/plain": [
              "(2, 1)"
            ]
          },
          "metadata": {
            "tags": []
          },
          "execution_count": 80
        }
      ]
    },
    {
      "cell_type": "code",
      "metadata": {
        "id": "fSfe8e0JuifO",
        "outputId": "e2fd2779-ee20-45d1-97e6-48df9c76f332",
        "colab": {
          "base_uri": "https://localhost:8080/",
          "height": 166
        }
      },
      "source": [
        "np.liang.inv(X.T.dot(X))"
      ],
      "execution_count": null,
      "outputs": [
        {
          "output_type": "error",
          "ename": "AttributeError",
          "evalue": "ignored",
          "traceback": [
            "\u001b[0;31m---------------------------------------------------------------------------\u001b[0m",
            "\u001b[0;31mAttributeError\u001b[0m                            Traceback (most recent call last)",
            "\u001b[0;32m<ipython-input-53-54000b0bd3a4>\u001b[0m in \u001b[0;36m<module>\u001b[0;34m()\u001b[0m\n\u001b[0;32m----> 1\u001b[0;31m \u001b[0mnp\u001b[0m\u001b[0;34m.\u001b[0m\u001b[0mliang\u001b[0m\u001b[0;34m.\u001b[0m\u001b[0minv\u001b[0m\u001b[0;34m(\u001b[0m\u001b[0mX\u001b[0m\u001b[0;34m.\u001b[0m\u001b[0mT\u001b[0m\u001b[0;34m.\u001b[0m\u001b[0mdot\u001b[0m\u001b[0;34m(\u001b[0m\u001b[0mX\u001b[0m\u001b[0;34m)\u001b[0m\u001b[0;34m)\u001b[0m\u001b[0;34m\u001b[0m\u001b[0;34m\u001b[0m\u001b[0m\n\u001b[0m",
            "\u001b[0;31mAttributeError\u001b[0m: module 'numpy' has no attribute 'liang'"
          ]
        }
      ]
    },
    {
      "cell_type": "code",
      "metadata": {
        "id": "58NqEEiOnMFM",
        "outputId": "701436b3-db42-41ad-cda7-a739e59b1b53",
        "colab": {
          "base_uri": "https://localhost:8080/"
        }
      },
      "source": [
        "df.loc[:,['Miles_per_Gallon','Cylinders']]"
      ],
      "execution_count": null,
      "outputs": [
        {
          "output_type": "execute_result",
          "data": {
            "text/plain": [
              "array([[18. ,  8. ],\n",
              "       [15. ,  8. ],\n",
              "       [18. ,  8. ],\n",
              "       [16. ,  8. ],\n",
              "       [17. ,  8. ],\n",
              "       [15. ,  8. ],\n",
              "       [14. ,  8. ],\n",
              "       [14. ,  8. ],\n",
              "       [14. ,  8. ],\n",
              "       [15. ,  8. ],\n",
              "       [ nan,  4. ],\n",
              "       [ nan,  8. ],\n",
              "       [ nan,  8. ],\n",
              "       [ nan,  8. ],\n",
              "       [ nan,  8. ],\n",
              "       [15. ,  8. ],\n",
              "       [14. ,  8. ],\n",
              "       [ nan,  8. ],\n",
              "       [15. ,  8. ],\n",
              "       [14. ,  8. ],\n",
              "       [24. ,  4. ],\n",
              "       [22. ,  6. ],\n",
              "       [18. ,  6. ],\n",
              "       [21. ,  6. ],\n",
              "       [27. ,  4. ],\n",
              "       [26. ,  4. ],\n",
              "       [25. ,  4. ],\n",
              "       [24. ,  4. ],\n",
              "       [25. ,  4. ],\n",
              "       [26. ,  4. ],\n",
              "       [21. ,  6. ],\n",
              "       [10. ,  8. ],\n",
              "       [10. ,  8. ],\n",
              "       [11. ,  8. ],\n",
              "       [ 9. ,  8. ],\n",
              "       [27. ,  4. ],\n",
              "       [28. ,  4. ],\n",
              "       [25. ,  4. ],\n",
              "       [25. ,  4. ],\n",
              "       [ nan,  4. ],\n",
              "       [19. ,  6. ],\n",
              "       [16. ,  6. ],\n",
              "       [17. ,  6. ],\n",
              "       [19. ,  6. ],\n",
              "       [18. ,  6. ],\n",
              "       [14. ,  8. ],\n",
              "       [14. ,  8. ],\n",
              "       [14. ,  8. ],\n",
              "       [14. ,  8. ],\n",
              "       [12. ,  8. ],\n",
              "       [13. ,  8. ],\n",
              "       [13. ,  8. ],\n",
              "       [18. ,  6. ],\n",
              "       [22. ,  4. ],\n",
              "       [19. ,  6. ],\n",
              "       [18. ,  6. ],\n",
              "       [23. ,  4. ],\n",
              "       [28. ,  4. ],\n",
              "       [30. ,  4. ],\n",
              "       [30. ,  4. ],\n",
              "       [31. ,  4. ],\n",
              "       [35. ,  4. ],\n",
              "       [27. ,  4. ],\n",
              "       [26. ,  4. ],\n",
              "       [24. ,  4. ],\n",
              "       [25. ,  4. ],\n",
              "       [23. ,  4. ],\n",
              "       [20. ,  4. ],\n",
              "       [21. ,  4. ],\n",
              "       [13. ,  8. ],\n",
              "       [14. ,  8. ],\n",
              "       [15. ,  8. ],\n",
              "       [14. ,  8. ],\n",
              "       [17. ,  8. ],\n",
              "       [11. ,  8. ],\n",
              "       [13. ,  8. ],\n",
              "       [12. ,  8. ],\n",
              "       [13. ,  8. ],\n",
              "       [19. ,  3. ],\n",
              "       [15. ,  8. ],\n",
              "       [13. ,  8. ],\n",
              "       [13. ,  8. ],\n",
              "       [14. ,  8. ],\n",
              "       [18. ,  4. ],\n",
              "       [22. ,  4. ],\n",
              "       [21. ,  4. ],\n",
              "       [26. ,  4. ],\n",
              "       [22. ,  4. ],\n",
              "       [28. ,  4. ],\n",
              "       [23. ,  4. ],\n",
              "       [28. ,  4. ],\n",
              "       [27. ,  4. ],\n",
              "       [13. ,  8. ],\n",
              "       [14. ,  8. ],\n",
              "       [13. ,  8. ],\n",
              "       [14. ,  8. ],\n",
              "       [15. ,  8. ],\n",
              "       [12. ,  8. ],\n",
              "       [13. ,  8. ],\n",
              "       [13. ,  8. ],\n",
              "       [14. ,  8. ],\n",
              "       [13. ,  8. ],\n",
              "       [12. ,  8. ],\n",
              "       [13. ,  8. ],\n",
              "       [18. ,  6. ],\n",
              "       [16. ,  6. ],\n",
              "       [18. ,  6. ],\n",
              "       [18. ,  6. ],\n",
              "       [23. ,  6. ],\n",
              "       [26. ,  4. ],\n",
              "       [11. ,  8. ],\n",
              "       [12. ,  8. ],\n",
              "       [13. ,  8. ],\n",
              "       [12. ,  8. ],\n",
              "       [18. ,  6. ],\n",
              "       [20. ,  4. ],\n",
              "       [21. ,  4. ],\n",
              "       [22. ,  4. ],\n",
              "       [18. ,  3. ],\n",
              "       [19. ,  4. ],\n",
              "       [21. ,  6. ],\n",
              "       [26. ,  4. ],\n",
              "       [15. ,  8. ],\n",
              "       [16. ,  8. ],\n",
              "       [29. ,  4. ],\n",
              "       [24. ,  4. ],\n",
              "       [20. ,  4. ],\n",
              "       [19. ,  4. ],\n",
              "       [15. ,  8. ],\n",
              "       [24. ,  4. ],\n",
              "       [20. ,  6. ],\n",
              "       [11. ,  8. ],\n",
              "       [20. ,  6. ],\n",
              "       [21. ,  6. ],\n",
              "       [19. ,  6. ],\n",
              "       [15. ,  6. ],\n",
              "       [31. ,  4. ],\n",
              "       [26. ,  4. ],\n",
              "       [32. ,  4. ],\n",
              "       [25. ,  4. ],\n",
              "       [16. ,  6. ],\n",
              "       [16. ,  6. ],\n",
              "       [18. ,  6. ],\n",
              "       [16. ,  8. ],\n",
              "       [13. ,  8. ],\n",
              "       [14. ,  8. ],\n",
              "       [14. ,  8. ],\n",
              "       [14. ,  8. ],\n",
              "       [29. ,  4. ],\n",
              "       [26. ,  4. ],\n",
              "       [26. ,  4. ],\n",
              "       [31. ,  4. ],\n",
              "       [32. ,  4. ],\n",
              "       [28. ,  4. ],\n",
              "       [24. ,  4. ],\n",
              "       [26. ,  4. ],\n",
              "       [24. ,  4. ],\n",
              "       [26. ,  4. ],\n",
              "       [31. ,  4. ],\n",
              "       [19. ,  6. ],\n",
              "       [18. ,  6. ],\n",
              "       [15. ,  6. ],\n",
              "       [15. ,  6. ],\n",
              "       [16. ,  8. ],\n",
              "       [15. ,  8. ],\n",
              "       [16. ,  8. ],\n",
              "       [14. ,  8. ],\n",
              "       [17. ,  6. ],\n",
              "       [16. ,  6. ],\n",
              "       [15. ,  6. ],\n",
              "       [18. ,  6. ],\n",
              "       [21. ,  6. ],\n",
              "       [20. ,  8. ],\n",
              "       [13. ,  8. ],\n",
              "       [29. ,  4. ],\n",
              "       [23. ,  4. ],\n",
              "       [20. ,  6. ],\n",
              "       [23. ,  4. ],\n",
              "       [24. ,  4. ],\n",
              "       [25. ,  4. ],\n",
              "       [24. ,  4. ],\n",
              "       [18. ,  6. ],\n",
              "       [29. ,  4. ],\n",
              "       [19. ,  6. ],\n",
              "       [23. ,  4. ],\n",
              "       [23. ,  4. ],\n",
              "       [22. ,  4. ],\n",
              "       [25. ,  4. ],\n",
              "       [33. ,  4. ],\n",
              "       [28. ,  4. ],\n",
              "       [25. ,  4. ],\n",
              "       [25. ,  4. ],\n",
              "       [26. ,  4. ],\n",
              "       [27. ,  4. ],\n",
              "       [17.5,  8. ],\n",
              "       [16. ,  8. ],\n",
              "       [15.5,  8. ],\n",
              "       [14.5,  8. ],\n",
              "       [22. ,  6. ],\n",
              "       [22. ,  6. ],\n",
              "       [24. ,  6. ],\n",
              "       [22.5,  6. ],\n",
              "       [29. ,  4. ],\n",
              "       [24.5,  4. ],\n",
              "       [29. ,  4. ],\n",
              "       [33. ,  4. ],\n",
              "       [20. ,  6. ],\n",
              "       [18. ,  6. ],\n",
              "       [18.5,  6. ],\n",
              "       [17.5,  6. ],\n",
              "       [29.5,  4. ],\n",
              "       [32. ,  4. ],\n",
              "       [28. ,  4. ],\n",
              "       [26.5,  4. ],\n",
              "       [20. ,  4. ],\n",
              "       [13. ,  8. ],\n",
              "       [19. ,  4. ],\n",
              "       [19. ,  6. ],\n",
              "       [16.5,  6. ],\n",
              "       [16.5,  8. ],\n",
              "       [13. ,  8. ],\n",
              "       [13. ,  8. ],\n",
              "       [13. ,  8. ],\n",
              "       [31.5,  4. ],\n",
              "       [30. ,  4. ],\n",
              "       [36. ,  4. ],\n",
              "       [25.5,  4. ],\n",
              "       [33.5,  4. ],\n",
              "       [17.5,  8. ],\n",
              "       [17. ,  8. ],\n",
              "       [15.5,  8. ],\n",
              "       [15. ,  8. ],\n",
              "       [17.5,  6. ],\n",
              "       [20.5,  6. ],\n",
              "       [19. ,  6. ],\n",
              "       [18.5,  6. ],\n",
              "       [16. ,  8. ],\n",
              "       [15.5,  8. ],\n",
              "       [15.5,  8. ],\n",
              "       [16. ,  8. ],\n",
              "       [29. ,  4. ],\n",
              "       [24.5,  4. ],\n",
              "       [26. ,  4. ],\n",
              "       [25.5,  4. ],\n",
              "       [30.5,  4. ],\n",
              "       [33.5,  4. ],\n",
              "       [30. ,  4. ],\n",
              "       [30.5,  4. ],\n",
              "       [22. ,  6. ],\n",
              "       [21.5,  4. ],\n",
              "       [21.5,  3. ],\n",
              "       [43.1,  4. ],\n",
              "       [36.1,  4. ],\n",
              "       [32.8,  4. ],\n",
              "       [39.4,  4. ],\n",
              "       [36.1,  4. ],\n",
              "       [19.9,  8. ],\n",
              "       [19.4,  8. ],\n",
              "       [20.2,  8. ],\n",
              "       [19.2,  6. ],\n",
              "       [20.5,  6. ],\n",
              "       [20.2,  6. ],\n",
              "       [25.1,  4. ],\n",
              "       [20.5,  6. ],\n",
              "       [19.4,  6. ],\n",
              "       [20.6,  6. ],\n",
              "       [20.8,  6. ],\n",
              "       [18.6,  6. ],\n",
              "       [18.1,  6. ],\n",
              "       [19.2,  8. ],\n",
              "       [17.7,  6. ],\n",
              "       [18.1,  8. ],\n",
              "       [17.5,  8. ],\n",
              "       [30. ,  4. ],\n",
              "       [27.5,  4. ],\n",
              "       [27.2,  4. ],\n",
              "       [30.9,  4. ],\n",
              "       [21.1,  4. ],\n",
              "       [23.2,  4. ],\n",
              "       [23.8,  4. ],\n",
              "       [23.9,  4. ],\n",
              "       [20.3,  5. ],\n",
              "       [17. ,  6. ],\n",
              "       [21.6,  4. ],\n",
              "       [16.2,  6. ],\n",
              "       [31.5,  4. ],\n",
              "       [29.5,  4. ],\n",
              "       [21.5,  6. ],\n",
              "       [19.8,  6. ],\n",
              "       [22.3,  4. ],\n",
              "       [20.2,  6. ],\n",
              "       [20.6,  6. ],\n",
              "       [17. ,  8. ],\n",
              "       [17.6,  8. ],\n",
              "       [16.5,  8. ],\n",
              "       [18.2,  8. ],\n",
              "       [16.9,  8. ],\n",
              "       [15.5,  8. ],\n",
              "       [19.2,  8. ],\n",
              "       [18.5,  8. ],\n",
              "       [31.9,  4. ],\n",
              "       [34.1,  4. ],\n",
              "       [35.7,  4. ],\n",
              "       [27.4,  4. ],\n",
              "       [25.4,  5. ],\n",
              "       [23. ,  8. ],\n",
              "       [27.2,  4. ],\n",
              "       [23.9,  8. ],\n",
              "       [34.2,  4. ],\n",
              "       [34.5,  4. ],\n",
              "       [31.8,  4. ],\n",
              "       [37.3,  4. ],\n",
              "       [28.4,  4. ],\n",
              "       [28.8,  6. ],\n",
              "       [26.8,  6. ],\n",
              "       [33.5,  4. ],\n",
              "       [41.5,  4. ],\n",
              "       [38.1,  4. ],\n",
              "       [32.1,  4. ],\n",
              "       [37.2,  4. ],\n",
              "       [28. ,  4. ],\n",
              "       [26.4,  4. ],\n",
              "       [24.3,  4. ],\n",
              "       [19.1,  6. ],\n",
              "       [34.3,  4. ],\n",
              "       [29.8,  4. ],\n",
              "       [31.3,  4. ],\n",
              "       [37. ,  4. ],\n",
              "       [32.2,  4. ],\n",
              "       [46.6,  4. ],\n",
              "       [27.9,  4. ],\n",
              "       [40.8,  4. ],\n",
              "       [44.3,  4. ],\n",
              "       [43.4,  4. ],\n",
              "       [36.4,  5. ],\n",
              "       [30. ,  4. ],\n",
              "       [44.6,  4. ],\n",
              "       [40.9,  4. ],\n",
              "       [33.8,  4. ],\n",
              "       [29.8,  4. ],\n",
              "       [32.7,  6. ],\n",
              "       [23.7,  3. ],\n",
              "       [35. ,  4. ],\n",
              "       [23.6,  4. ],\n",
              "       [32.4,  4. ],\n",
              "       [27.2,  4. ],\n",
              "       [26.6,  4. ],\n",
              "       [25.8,  4. ],\n",
              "       [23.5,  6. ],\n",
              "       [30. ,  4. ],\n",
              "       [39.1,  4. ],\n",
              "       [39. ,  4. ],\n",
              "       [35.1,  4. ],\n",
              "       [32.3,  4. ],\n",
              "       [37. ,  4. ],\n",
              "       [37.7,  4. ],\n",
              "       [34.1,  4. ],\n",
              "       [34.7,  4. ],\n",
              "       [34.4,  4. ],\n",
              "       [29.9,  4. ],\n",
              "       [33. ,  4. ],\n",
              "       [34.5,  4. ],\n",
              "       [33.7,  4. ],\n",
              "       [32.4,  4. ],\n",
              "       [32.9,  4. ],\n",
              "       [31.6,  4. ],\n",
              "       [28.1,  4. ],\n",
              "       [ nan,  4. ],\n",
              "       [30.7,  6. ],\n",
              "       [25.4,  6. ],\n",
              "       [24.2,  6. ],\n",
              "       [22.4,  6. ],\n",
              "       [26.6,  8. ],\n",
              "       [20.2,  6. ],\n",
              "       [17.6,  6. ],\n",
              "       [28. ,  4. ],\n",
              "       [27. ,  4. ],\n",
              "       [34. ,  4. ],\n",
              "       [31. ,  4. ],\n",
              "       [29. ,  4. ],\n",
              "       [27. ,  4. ],\n",
              "       [24. ,  4. ],\n",
              "       [23. ,  4. ],\n",
              "       [36. ,  4. ],\n",
              "       [37. ,  4. ],\n",
              "       [31. ,  4. ],\n",
              "       [38. ,  4. ],\n",
              "       [36. ,  4. ],\n",
              "       [36. ,  4. ],\n",
              "       [36. ,  4. ],\n",
              "       [34. ,  4. ],\n",
              "       [38. ,  4. ],\n",
              "       [32. ,  4. ],\n",
              "       [38. ,  4. ],\n",
              "       [25. ,  6. ],\n",
              "       [38. ,  6. ],\n",
              "       [26. ,  4. ],\n",
              "       [22. ,  6. ],\n",
              "       [32. ,  4. ],\n",
              "       [36. ,  4. ],\n",
              "       [27. ,  4. ],\n",
              "       [27. ,  4. ],\n",
              "       [44. ,  4. ],\n",
              "       [32. ,  4. ],\n",
              "       [28. ,  4. ],\n",
              "       [31. ,  4. ]])"
            ]
          },
          "metadata": {
            "tags": []
          },
          "execution_count": 13
        }
      ]
    },
    {
      "cell_type": "code",
      "metadata": {
        "id": "mlKOaD98nTGQ"
      },
      "source": [
        ""
      ],
      "execution_count": null,
      "outputs": []
    }
  ]
}